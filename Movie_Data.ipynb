{
 "cells": [
  {
   "cell_type": "code",
   "execution_count": 1,
   "metadata": {},
   "outputs": [],
   "source": [
    "# Use IMDB data to predict star ratings"
   ]
  },
  {
   "cell_type": "code",
   "execution_count": 2,
   "metadata": {},
   "outputs": [],
   "source": [
    "import pandas as pd\n",
    "from sklearn.tree import DecisionTreeRegressor\n",
    "from sklearn.model_selection import train_test_split \n",
    "from sklearn.metrics import mean_absolute_error\n",
    "from sklearn.ensemble import RandomForestRegressor\n",
    "import numpy as np"
   ]
  },
  {
   "cell_type": "code",
   "execution_count": 3,
   "metadata": {},
   "outputs": [
    {
     "name": "stdout",
     "output_type": "stream",
     "text": [
      "Index(['star_rating', 'title', 'content_rating', 'genre', 'duration',\n",
      "       'actors_list'],\n",
      "      dtype='object')\n"
     ]
    }
   ],
   "source": [
    "# Setting the random_state to 4 for uniformity; can be changed if desired \n",
    "rs = 4\n",
    "\n",
    "movie_file = \"https://bit.ly/imdbratings\"\n",
    "movie_data = pd.read_csv(movie_file)\n",
    "\n",
    "print(movie_data.columns)"
   ]
  },
  {
   "cell_type": "code",
   "execution_count": 4,
   "metadata": {},
   "outputs": [
    {
     "name": "stdout",
     "output_type": "stream",
     "text": [
      "<class 'pandas.core.frame.DataFrame'>\n",
      "RangeIndex: 979 entries, 0 to 978\n",
      "Data columns (total 6 columns):\n",
      "star_rating       979 non-null float64\n",
      "title             979 non-null object\n",
      "content_rating    976 non-null object\n",
      "genre             979 non-null object\n",
      "duration          979 non-null int64\n",
      "actors_list       979 non-null object\n",
      "dtypes: float64(1), int64(1), object(4)\n",
      "memory usage: 46.0+ KB\n",
      "None \n",
      "        star_rating    duration\n",
      "count   979.000000  979.000000\n",
      "mean      7.889785  120.979571\n",
      "std       0.336069   26.218010\n",
      "min       7.400000   64.000000\n",
      "25%       7.600000  102.000000\n",
      "50%       7.800000  117.000000\n",
      "75%       8.100000  134.000000\n",
      "max       9.300000  242.000000 \n",
      "    star_rating                     title content_rating   genre  duration  \\\n",
      "0          9.3  The Shawshank Redemption              R   Crime       142   \n",
      "1          9.2             The Godfather              R   Crime       175   \n",
      "2          9.1    The Godfather: Part II              R   Crime       200   \n",
      "3          9.0           The Dark Knight          PG-13  Action       152   \n",
      "4          8.9              Pulp Fiction              R   Crime       154   \n",
      "\n",
      "                                         actors_list  \n",
      "0  [u'Tim Robbins', u'Morgan Freeman', u'Bob Gunt...  \n",
      "1    [u'Marlon Brando', u'Al Pacino', u'James Caan']  \n",
      "2  [u'Al Pacino', u'Robert De Niro', u'Robert Duv...  \n",
      "3  [u'Christian Bale', u'Heath Ledger', u'Aaron E...  \n",
      "4  [u'John Travolta', u'Uma Thurman', u'Samuel L....  \n"
     ]
    }
   ],
   "source": [
    "# Before removing any features, check if anything is missing or if there are any outliers\n",
    "the_movie_data = pd.DataFrame(movie_data, columns = [\"star_rating\",\"content_rating\",\"genre\",\"duration\"])\n",
    "print(movie_data.info(), \"\\n\", movie_data.describe(), \"\\n\", movie_data.head())"
   ]
  },
  {
   "cell_type": "code",
   "execution_count": 5,
   "metadata": {},
   "outputs": [
    {
     "name": "stdout",
     "output_type": "stream",
     "text": [
      "     star_rating content_rating  duration\n",
      "0            9.3              R       142\n",
      "1            9.2              R       175\n",
      "2            9.1              R       200\n",
      "3            9.0          PG-13       152\n",
      "4            8.9              R       154\n",
      "5            8.9      NOT RATED        96\n",
      "6            8.9      NOT RATED       161\n",
      "7            8.9          PG-13       201\n",
      "8            8.9              R       195\n",
      "9            8.9              R       139\n",
      "10           8.8          PG-13       178\n",
      "11           8.8          PG-13       148\n",
      "12           8.8             PG       124\n",
      "13           8.8          PG-13       142\n",
      "14           8.8          PG-13       179\n",
      "15           8.7          PG-13       169\n",
      "16           8.7              R       133\n",
      "17           8.7        UNRATED       207\n",
      "18           8.7              R       146\n",
      "19           8.7             PG       121\n",
      "20           8.7              R       136\n",
      "21           8.7              R       130\n",
      "22           8.7       APPROVED       130\n",
      "23           8.7              R       106\n",
      "24           8.7              R       127\n",
      "25           8.6          PG-13       116\n",
      "26           8.6          PG-13       175\n",
      "27           8.6              R       118\n",
      "28           8.6              R       110\n",
      "29           8.6         PASSED        87\n",
      "..           ...            ...       ...\n",
      "949          7.4             PG       103\n",
      "950          7.4              R       108\n",
      "951          7.4              R       105\n",
      "952          7.4              R       117\n",
      "953          7.4             PG       102\n",
      "954          7.4          PG-13       104\n",
      "955          7.4              R       157\n",
      "956          7.4             PG       104\n",
      "957          7.4              R        98\n",
      "958          7.4          PG-13       109\n",
      "959          7.4              R        96\n",
      "960          7.4          PG-13       103\n",
      "961          7.4              R       114\n",
      "962          7.4             PG        99\n",
      "963          7.4              R       118\n",
      "964          7.4          PG-13       150\n",
      "965          7.4          PG-13       105\n",
      "966          7.4          PG-13        87\n",
      "967          7.4              R       136\n",
      "968          7.4              R       162\n",
      "969          7.4              R       109\n",
      "970          7.4              R       107\n",
      "971          7.4              R        90\n",
      "972          7.4          NC-17       112\n",
      "973          7.4          PG-13       126\n",
      "974          7.4             PG       116\n",
      "975          7.4             PG       118\n",
      "976          7.4          PG-13       138\n",
      "977          7.4             PG       114\n",
      "978          7.4              R       126\n",
      "\n",
      "[979 rows x 3 columns]\n"
     ]
    }
   ],
   "source": [
    "# Nothing is empty, so no need to impute with mean; so far, no need to remove outliers \n",
    "\n",
    "# Features: Keep star_rating, content_rating, duration; omit title, genre, and actors_list\n",
    "\n",
    "# Will not use title or actor names in the model; tried to use genre, but with \n",
    "# so many smaller sub-genres, it wasn't easy to group them together\n",
    "# Does horror go with mystery or sci-fiction? Putting them all together isn't\n",
    "# much better, as mystery and sci-fiction are fairly different.\n",
    "# So will just omit genre.\n",
    "\n",
    "movie_data = movie_data.drop([\"title\", \"genre\", \"actors_list\"], axis = 1)\n",
    "print(movie_data)"
   ]
  },
  {
   "cell_type": "code",
   "execution_count": 6,
   "metadata": {},
   "outputs": [
    {
     "name": "stdout",
     "output_type": "stream",
     "text": [
      "['R', 'PG-13', 'NOT RATED', 'PG', 'UNRATED', 'APPROVED', 'PASSED', 'G', 'X', nan, 'TV-MA', 'GP', 'NC-17']\n",
      "R : 460\n",
      "PG-13 : 189\n",
      "NOT RATED : 65\n",
      "PG : 123\n",
      "UNRATED : 38\n",
      "APPROVED : 47\n",
      "PASSED : 7\n",
      "G : 32\n",
      "X : 4\n",
      "nan : 0\n",
      "TV-MA : 1\n",
      "GP : 3\n",
      "NC-17 : 7\n"
     ]
    }
   ],
   "source": [
    "# Star rating, being from a top movie list, has relatively small sd (about a third of a star), so keep all\n",
    "\n",
    "content_list = []\n",
    "for c_entry in movie_data[\"content_rating\"]:\n",
    "    if c_entry not in content_list:\n",
    "        content_list.append(c_entry)\n",
    "print(content_list)\n",
    "\n",
    "for c_rating in content_list:\n",
    "    letter_rating = (movie_data[\"content_rating\"] == c_rating).sum()\n",
    "    print(c_rating, \":\", letter_rating)"
   ]
  },
  {
   "cell_type": "code",
   "execution_count": 7,
   "metadata": {},
   "outputs": [
    {
     "name": "stdout",
     "output_type": "stream",
     "text": [
      "\n",
      "Rating scale: 4 is restricted to adults, 3 is okay for older kids/teens, 2 for everybody, 1 is unknown.\n"
     ]
    }
   ],
   "source": [
    "# Might be unconventional, but since the rating systems have changed over time,\n",
    "# will reclassify into subgroups based off of what a generic modern-day rating would be.\n",
    "# For PASSED and APPROVED, a quick glimpse shows the former is largely PG\n",
    "# and the latter leans toward PG-13, as the former is earlier and thus likely more affected\n",
    "# by the Hayes Code ; note both categories have exceptions, and this can affect the model's accuracy \n",
    "\n",
    "print()\n",
    "print(\"Rating scale: 4 is restricted to adults, 3 is okay for older kids/teens, 2 for everybody, 1 is unknown.\")"
   ]
  },
  {
   "cell_type": "code",
   "execution_count": 8,
   "metadata": {},
   "outputs": [],
   "source": [
    "# 4 is Mature: R, X, TV-MA, NC-17\n",
    "# 3 is No young kids, but not only adults (Teens): PG-13, GP, APPROVED \n",
    "# 2 is Kid-Friendly, young and/or old kids: PG, G, PASSED\n",
    "# 1 is No rating: NOT RATED, UNRATED    \n",
    "\n",
    "rating_list = [\"R\", \"X\", \"TV-MA\", \"NC-17\", \"PG-13\", \"GP\", \"APPROVED\", \"PG\", \"G\", \"PASSED\", \"NOT RATED\", \"UNRATED\"]    \n",
    "for the_movie_rating in movie_data[\"content_rating\"]:\n",
    "    for rating in rating_list: \n",
    "        if the_movie_rating in rating_list[0:4]:\n",
    "            movie_data[\"content_rating\"] = movie_data[\"content_rating\"].replace(the_movie_rating, 4)\n",
    "        elif the_movie_rating in rating_list[4:7]:\n",
    "            movie_data[\"content_rating\"] = movie_data[\"content_rating\"].replace(the_movie_rating, 3)\n",
    "        elif the_movie_rating in rating_list[7:10]:\n",
    "            movie_data[\"content_rating\"] = movie_data[\"content_rating\"].replace(the_movie_rating, 2)\n",
    "        else:\n",
    "            movie_data[\"content_rating\"] = movie_data[\"content_rating\"].replace(the_movie_rating, 1)\n",
    "\n",
    "# Don't need loc or iloc- for now"
   ]
  },
  {
   "cell_type": "code",
   "execution_count": 9,
   "metadata": {},
   "outputs": [
    {
     "name": "stdout",
     "output_type": "stream",
     "text": [
      "178  minutes between shortest and longest movie\n"
     ]
    }
   ],
   "source": [
    "# Onward to duration\n",
    "\n",
    "print(max(movie_data.duration)-min(movie_data.duration), \" minutes between shortest and longest movie\")\n",
    "\n",
    "# About a three hour difference in range, half hour for standard deviation (from before)"
   ]
  },
  {
   "cell_type": "code",
   "execution_count": 10,
   "metadata": {},
   "outputs": [
    {
     "name": "stdout",
     "output_type": "stream",
     "text": [
      "Movie length categories: \n",
      "  <90 min.:  72 \n",
      "  90-179:  907 \n",
      "  180+:  33\n",
      "<class 'pandas.core.frame.DataFrame'>\n",
      "RangeIndex: 979 entries, 0 to 978\n",
      "Data columns (total 3 columns):\n",
      "star_rating       979 non-null float64\n",
      "content_rating    979 non-null int64\n",
      "duration          979 non-null int64\n",
      "dtypes: float64(1), int64(2)\n",
      "memory usage: 23.0 KB\n",
      "None        star_rating  content_rating    duration\n",
      "count   979.000000      979.000000  979.000000\n",
      "mean      7.889785        3.100102  120.979571\n",
      "std       0.336069        1.035263   26.218010\n",
      "min       7.400000        1.000000   64.000000\n",
      "25%       7.600000        2.000000  102.000000\n",
      "50%       7.800000        3.000000  117.000000\n",
      "75%       8.100000        4.000000  134.000000\n",
      "max       9.300000        4.000000  242.000000\n",
      "\n",
      "     star_rating  content_rating  duration\n",
      "0            9.3               4       142\n",
      "1            9.2               4       175\n",
      "2            9.1               4       200\n",
      "3            9.0               3       152\n",
      "4            8.9               4       154\n",
      "5            8.9               1        96\n",
      "6            8.9               1       161\n",
      "7            8.9               3       201\n",
      "8            8.9               4       195\n",
      "9            8.9               4       139\n",
      "10           8.8               3       178\n",
      "11           8.8               3       148\n",
      "12           8.8               2       124\n",
      "13           8.8               3       142\n",
      "14           8.8               3       179\n",
      "15           8.7               3       169\n",
      "16           8.7               4       133\n",
      "17           8.7               1       207\n",
      "18           8.7               4       146\n",
      "19           8.7               2       121\n",
      "20           8.7               4       136\n",
      "21           8.7               4       130\n",
      "22           8.7               3       130\n",
      "23           8.7               4       106\n",
      "24           8.7               4       127\n",
      "25           8.6               3       116\n",
      "26           8.6               3       175\n",
      "27           8.6               4       118\n",
      "28           8.6               4       110\n",
      "29           8.6               2        87\n",
      "..           ...             ...       ...\n",
      "949          7.4               2       103\n",
      "950          7.4               4       108\n",
      "951          7.4               4       105\n",
      "952          7.4               4       117\n",
      "953          7.4               2       102\n",
      "954          7.4               3       104\n",
      "955          7.4               4       157\n",
      "956          7.4               2       104\n",
      "957          7.4               4        98\n",
      "958          7.4               3       109\n",
      "959          7.4               4        96\n",
      "960          7.4               3       103\n",
      "961          7.4               4       114\n",
      "962          7.4               2        99\n",
      "963          7.4               4       118\n",
      "964          7.4               3       150\n",
      "965          7.4               3       105\n",
      "966          7.4               3        87\n",
      "967          7.4               4       136\n",
      "968          7.4               4       162\n",
      "969          7.4               4       109\n",
      "970          7.4               4       107\n",
      "971          7.4               4        90\n",
      "972          7.4               4       112\n",
      "973          7.4               3       126\n",
      "974          7.4               2       116\n",
      "975          7.4               2       118\n",
      "976          7.4               3       138\n",
      "977          7.4               2       114\n",
      "978          7.4               4       126\n",
      "\n",
      "[979 rows x 3 columns]\n"
     ]
    }
   ],
   "source": [
    "for moviemin in movie_data[\"duration\"]:\n",
    "    if moviemin >= 180:\n",
    "        longm = (movie_data[\"duration\"] >= 180).sum()\n",
    "    elif moviemin >= 90:\n",
    "        medm = (movie_data[\"duration\"] >=90).sum()\n",
    "    else: \n",
    "        shortm = (movie_data[\"duration\"] < 90).sum()\n",
    "\n",
    "print(\"Movie length categories:\", \"\\n\", \" <90 min.: \", shortm, \"\\n\", \" 90-179: \", medm, \"\\n\", \" 180+: \", longm)\n",
    "\n",
    "# Will leave duration; each interval has enough to not be heavily swayed by unusual outliers, \n",
    "# though really short and really long movies are smaller subgroups\n",
    "\n",
    "print(movie_data.info(), movie_data.describe())\n",
    "print()\n",
    "print(movie_data)"
   ]
  },
  {
   "cell_type": "code",
   "execution_count": 11,
   "metadata": {},
   "outputs": [
    {
     "name": "stdout",
     "output_type": "stream",
     "text": [
      "The first Decision Tree MAE is:  0.29917516270577493\n"
     ]
    }
   ],
   "source": [
    "# Now use this data to predict star rating\n",
    "\n",
    "y = movie_data.star_rating\n",
    "\n",
    "movie_descriptors = [\"content_rating\", \"duration\"]\n",
    "X = movie_data[movie_descriptors]\n",
    "\n",
    "# Try decision tree\n",
    "\n",
    "dt_movie_model = DecisionTreeRegressor(random_state = rs)    \n",
    "\n",
    "# dt_movie_model.fit(X,y)\n",
    "# Note that X refers to features, y refers to labels, train to training data, \n",
    "# val to validation/test data (different, yes, but here will treat as same.)\n",
    "\n",
    "train_X, val_X, train_y, val_y = train_test_split(X, y, random_state = rs)\n",
    "dt_movie_model.fit(train_X, train_y)\n",
    "dt_val_predictions = dt_movie_model.predict(val_X)\n",
    "print(\"The first Decision Tree MAE is: \", mean_absolute_error(val_y, dt_val_predictions))\n"
   ]
  },
  {
   "cell_type": "code",
   "execution_count": 12,
   "metadata": {},
   "outputs": [
    {
     "name": "stdout",
     "output_type": "stream",
     "text": [
      "Best MLN (MAX LEAF NODES):  4  has MAE (MEAN ABSOLUTE ERROR): 0.2498404450648847\n",
      "\n",
      "The better MAE for Decision Tree is now:  0.2498404450648847\n"
     ]
    }
   ],
   "source": [
    "# See if this can be improved with setting max leaf nodes\n",
    "\n",
    "def get_the_new_mae(max_leaf_nodes, train_X, val_X, train_y, val_y):\n",
    "    dt_revised_model = DecisionTreeRegressor(max_leaf_nodes = max_leaf_nodes, random_state = rs)\n",
    "    dt_revised_model.fit(train_X, train_y)\n",
    "    prediction_val = dt_revised_model.predict(val_X)\n",
    "    the_new_mae = mean_absolute_error(val_y, prediction_val)\n",
    "    return the_new_mae\n",
    "\n",
    "least_mae = 979\n",
    "best_mln = 979 \n",
    "\n",
    "for max_leaf_nodes in range(2, 979, 2):\n",
    "    mae = get_the_new_mae(max_leaf_nodes, train_X, val_X, train_y, val_y)\n",
    "    if mae < least_mae:\n",
    "        least_mae = mae\n",
    "        best_mln = max_leaf_nodes\n",
    "print(\"Best MLN (MAX LEAF NODES): \", best_mln, \" has MAE (MEAN ABSOLUTE ERROR):\", least_mae)\n",
    "print()\n",
    "\n",
    "dt_revised_movie_model = DecisionTreeRegressor(max_leaf_nodes = best_mln, random_state = rs)\n",
    "dt_revised_movie_model.fit(train_X, train_y)\n",
    "dt_val_predictions = dt_revised_movie_model.predict(val_X)\n",
    "print(\"The better MAE for Decision Tree is now: \", mean_absolute_error(val_y, dt_val_predictions))"
   ]
  },
  {
   "cell_type": "code",
   "execution_count": 13,
   "metadata": {},
   "outputs": [
    {
     "name": "stdout",
     "output_type": "stream",
     "text": [
      "96.84 % is the accuracy.\n"
     ]
    }
   ],
   "source": [
    "# Much better!\n",
    "# The MAE is far enough from 0 to dispel ideas of serious overfitting\n",
    "# Instead of accuracy_score, will use mean absolute percentage error; no absolute precision error\n",
    "\n",
    "errors = abs(val_y-dt_val_predictions)\n",
    "mape = 100*errors/val_y\n",
    "dt_accuracy = 100 - np.mean(mape)\n",
    "print(round(dt_accuracy, 2), \"% is the accuracy.\")\n"
   ]
  },
  {
   "cell_type": "code",
   "execution_count": 14,
   "metadata": {},
   "outputs": [
    {
     "name": "stdout",
     "output_type": "stream",
     "text": [
      "The Random Forest MAE is:  0.28107231689076756\n",
      "96.45 % is the accuracy.\n"
     ]
    }
   ],
   "source": [
    "# How about RandomForest?\n",
    "\n",
    "# Pick 500 trees\n",
    "# More had slowed run time and only increased accuracy by .01, less was about .01 less\n",
    "# and not noticeably faster\n",
    "\n",
    "rf_movie_model = RandomForestRegressor(n_estimators = 500, random_state = rs)\n",
    "\n",
    "#rf_movie_model.fit(X,y)\n",
    "\n",
    "rf_movie_model.fit(train_X, train_y)\n",
    "rf_val_predictions = rf_movie_model.predict(val_X) \n",
    "print(\"The Random Forest MAE is: \", mean_absolute_error(val_y, rf_val_predictions))\n",
    "\n",
    "# So, at least here, using better parameters for DT is better than a basic RF\n",
    "\n",
    "# Now RF accuracy:\n",
    "\n",
    "errors = abs(val_y-rf_val_predictions)\n",
    "mape = 100*errors/val_y\n",
    "rf_accuracy = 100-np.mean(mape)\n",
    "print(round(rf_accuracy,2), \"% is the accuracy.\")\n"
   ]
  },
  {
   "cell_type": "code",
   "execution_count": 15,
   "metadata": {},
   "outputs": [
    {
     "name": "stdout",
     "output_type": "stream",
     "text": [
      "Between decision tree and random forest, decision tree is the more accurate model.\n"
     ]
    }
   ],
   "source": [
    "if rf_accuracy == dt_accuracy:\n",
    "    better_model = \"they're the same. Neither\"\n",
    "elif rf_accuracy > dt_accuracy:\n",
    "    better_model = \"random forest\"\n",
    "else:\n",
    "    better_model = \"decision tree\"\n",
    "\n",
    "print(\"Between decision tree and random forest, {} is the more accurate model.\".format(better_model))"
   ]
  },
  {
   "cell_type": "code",
   "execution_count": 16,
   "metadata": {},
   "outputs": [],
   "source": [
    "# Since so few features, the decision trees are relatively stable to begin with, \n",
    "# explaining the slightly higher accuracy\n",
    "# I would suspect using all the features and, tuning the parameters, could make \n",
    "# RF the better model"
   ]
  }
 ],
 "metadata": {
  "kernelspec": {
   "display_name": "Python 3",
   "language": "python",
   "name": "python3"
  },
  "language_info": {
   "codemirror_mode": {
    "name": "ipython",
    "version": 3
   },
   "file_extension": ".py",
   "mimetype": "text/x-python",
   "name": "python",
   "nbconvert_exporter": "python",
   "pygments_lexer": "ipython3",
   "version": "3.7.1"
  }
 },
 "nbformat": 4,
 "nbformat_minor": 2
}
